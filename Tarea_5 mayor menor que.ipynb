{
  "nbformat": 4,
  "nbformat_minor": 0,
  "metadata": {
    "colab": {
      "name": "Tarea 5.ipynb",
      "provenance": [],
      "collapsed_sections": []
    },
    "kernelspec": {
      "name": "python3",
      "display_name": "Python 3"
    },
    "language_info": {
      "name": "python"
    }
  },
  "cells": [
    {
      "cell_type": "code",
      "metadata": {
        "colab": {
          "base_uri": "https://localhost:8080/"
        },
        "id": "tg-dqPLvxgFo",
        "outputId": "3f8f825b-d5b7-4c70-9274-764e0f2b762f"
      },
      "source": [
        "a = int(input(\"Dame un valor: \"))\n",
        "b = int(input(\"Dame un valor: \"))\n",
        "\n",
        "if a > b : \n",
        "    print(a, \"es mayor a\", b)\n",
        "elif a < b: \n",
        "        print(a, \"es menor que\", b)\n",
        "elif a == b:\n",
        "        print(a, \"es igual que\", b)\n",
        "print(\"--FIN DEL PROGRAMA--\")"
      ],
      "execution_count": null,
      "outputs": [
        {
          "output_type": "stream",
          "name": "stdout",
          "text": [
            "Dame un valor: 2\n",
            "Dame un valor: 1\n",
            "2 es mayor a 1\n",
            "--FIN DEL PROGRAMA\n"
          ]
        }
      ]
    },
    {
      "cell_type": "code",
      "metadata": {
        "id": "NAP5rM7Z1wq8",
        "colab": {
          "base_uri": "https://localhost:8080/"
        },
        "outputId": "d2192a8f-7775-4ea8-d335-c7d2826835a7"
      },
      "source": [
        "a = int(input(\"Dame un valor: \"))\n",
        "b = int(input(\"Dame un valor diferente al anterior: \" ))\n",
        "if a != b:\n",
        "    c = int(input(\"Dame un valor diferente a los anteriores: \"))\n",
        "    if a != b and b != c:\n",
        "        print(\"Los 3 son valores diferentes por lo tanto\")\n",
        "        if a > b and a > c:\n",
        "            print(a,\"es mayor que\",b ,c)\n",
        "        elif b > a and b > c:\n",
        "            print(b,\"Es mayor que\",a ,c)\n",
        "        elif c > a and c > b:\n",
        "            print(c,\"Es mayor que\",a ,b)\n",
        "    else:\n",
        "        print(\"El segundo y tercer valor son iguales\")\n",
        "else:\n",
        "    print(\"No me diste un valor diferente vuelve a intentarlo\")\n",
        "print(\"--FIN DEL PROGRAMA--\")"
      ],
      "execution_count": 94,
      "outputs": [
        {
          "output_type": "stream",
          "name": "stdout",
          "text": [
            "Dame un valor: 3\n",
            "Dame un valor diferente al anterior: 4\n",
            "Dame un valor diferente a los anteriores: 1\n",
            "Los 3 son valores diferentes por lo tanto\n",
            "4 Es mayor que 3 1\n",
            "--FIN DEL PROGRAMA--\n"
          ]
        }
      ]
    },
    {
      "cell_type": "code",
      "metadata": {
        "colab": {
          "base_uri": "https://localhost:8080/"
        },
        "id": "xCRJfUJy9BLX",
        "outputId": "c64d90ae-c31e-4db9-ed94-d214f31d9a05"
      },
      "source": [
        "a = int(input(\"Dame un valor: \"))\n",
        "b = int(input(\"Dame un valor diferente al anterior: \" ))\n",
        "if a != b:\n",
        "    c = int(input(\"Dame un valor diferente a los anteriores: \"))\n",
        "    if a != b and b != c:\n",
        "        print(\"Los 3 son valores diferentes por lo tanto\")\n",
        "        if a < b and a < c:\n",
        "            print(a,\"Es menor que\",b ,c)\n",
        "        elif b < a and b < c:\n",
        "            print(b,\"Es menor que\",a ,c)\n",
        "        elif c < a and c < b:\n",
        "            print(c,\"Es menor que\",a ,b)\n",
        "    else:\n",
        "        print(\"El segundo y tercer valor son iguales\")\n",
        "else:\n",
        "    print(\"No me diste un valor diferente vuelve a intentarlo\")\n",
        "print(\"--FIN DEL PROGRAMA--\")"
      ],
      "execution_count": 93,
      "outputs": [
        {
          "output_type": "stream",
          "name": "stdout",
          "text": [
            "Dame un valor: 1\n",
            "Dame un valor diferente al anterior: 2\n",
            "Dame un valor diferente a los anteriores: 4\n",
            "Los 3 son valores diferentes por lo tanto\n",
            "1 Es menor que 2 4\n",
            "--FIN DEL PROGRAMA--\n"
          ]
        }
      ]
    },
    {
      "cell_type": "code",
      "metadata": {
        "colab": {
          "base_uri": "https://localhost:8080/"
        },
        "id": "8-Ch9UkN9uz2",
        "outputId": "e6956822-dcbf-4a44-b97d-42ce9acae884"
      },
      "source": [
        "a = int(input(\"Dame un valor: \"))\n",
        "b = int(input(\"Dame un valor diferente al anterior: \" ))\n",
        "if a != b:\n",
        "    c = int(input(\"Dame un valor diferente a los anteriores: \"))\n",
        "    if a != b and b != c and a!= c:\n",
        "        d=int(input(\"Dame un valor diferente de los anteriores\"))\n",
        "        if a != b and b != c and c != d and a != d and b != d:\n",
        "            if a > b and a > c and a > d:\n",
        "                print(a,\"Es mayor que\",b ,c ,d)\n",
        "            elif b > a and b > c and b > d:\n",
        "                print(b,\"Es mayor que\",a ,c ,d)\n",
        "            elif c > a and c > b and c > d:\n",
        "                print(c,\"Es mayor que\",a ,b ,d)\n",
        "            elif d > a and d > b and d > c:\n",
        "                print(d,\"Es mayor que\",a ,b ,c)\n",
        "            if a < b and a < c and a < d:\n",
        "                    print(a,\"Es menor que\",b ,c ,d)\n",
        "            elif b < a and b < c and b < d:\n",
        "                    print(b,\"Es menor que\",a ,c ,d)\n",
        "            elif c < a and c < b and c < d:\n",
        "                    print(c,\"Es menor que\",a ,b ,c)\n",
        "            elif d < a and d < b and d < c:\n",
        "                    print(d,\"Es menor que\",a ,b, c)\n",
        "        else:\n",
        "            print(\"Alguno de los valores es igual ingresa de nuevo\")    \n",
        "    else:\n",
        "        print(\"Alguno de los valores son iguales\")\n",
        "else:\n",
        "    print(\"No me diste un valor diferente vuelve a intentarlo\")\n",
        "print(\"--FIN DEL PROGRAMA--\")"
      ],
      "execution_count": 92,
      "outputs": [
        {
          "output_type": "stream",
          "name": "stdout",
          "text": [
            "Dame un valor: 2\n",
            "Dame un valor diferente al anterior: 1\n",
            "Dame un valor diferente a los anteriores: 3\n",
            "Dame un valor diferente de los anteriores13\n",
            "13 Es mayor que 2 1 3\n",
            "1 Es menor que 2 3 13\n",
            "--FIN DEL PROGRAMA--\n"
          ]
        }
      ]
    }
  ]
}