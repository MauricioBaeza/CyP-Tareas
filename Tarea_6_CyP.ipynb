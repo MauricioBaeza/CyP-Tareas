{
  "nbformat": 4,
  "nbformat_minor": 0,
  "metadata": {
    "colab": {
      "name": "Tarea 6 CyP.ipynb",
      "provenance": []
    },
    "kernelspec": {
      "name": "python3",
      "display_name": "Python 3"
    },
    "language_info": {
      "name": "python"
    }
  },
  "cells": [
    {
      "cell_type": "code",
      "metadata": {
        "id": "hJmwNugXZuyB"
      },
      "source": [
        "#ejercicio 2.1\n",
        "CAL = float(input(\"Dame la calificacion del alumno: \"))\n",
        "if CAL>8 :\n",
        "    print(\"Aprobado\")\n",
        "print(\"--FIN DEL PROGRAMA--\")"
      ],
      "execution_count": null,
      "outputs": []
    },
    {
      "cell_type": "code",
      "metadata": {
        "id": "B1CZFFQ4abMe"
      },
      "source": [
        "#ejercicio 2.2\n",
        "SUE =float(input(\"Sueldo del trabajador: \"))\n",
        "NSUE = 0\n",
        "AUM: 0\n",
        "if SUE<1000:\n",
        "    AUM=SUE*0.15\n",
        "    NSUE=AUM+SUE\n",
        "    print(\"el aumento fue de: \",AUM)\n",
        "    print(\"Su sueldo aumento a: \",NSUE)\n",
        "print(\"--FIN DEL PROGRAMA--\")"
      ],
      "execution_count": null,
      "outputs": []
    },
    {
      "cell_type": "code",
      "metadata": {
        "id": "VHOCO0a0Zveo"
      },
      "source": [
        "#ejercicio 2.3\n",
        "CAL = float(input(\"calificacion del examen del alumno: \"))\n",
        "if CAL >= 8:\n",
        "    print(\"aprobado\")\n",
        "else: \n",
        "    print(\"reprobado\")\n",
        "print(\"--FIN DEL PROGRAMA--\")"
      ],
      "execution_count": null,
      "outputs": []
    },
    {
      "cell_type": "code",
      "metadata": {
        "id": "ueSrxXFZaK8Z"
      },
      "source": [
        "#ejercicio 2.4\n",
        "SUE = float(input(\"Sueldo del empleado: \"))\n",
        "NSUE = 0\n",
        "if SUE<1000:\n",
        "    NSUE = SUE*1.15\n",
        "    print(\"el sueldo del empleado aumento a: \",NSUE)\n",
        "else:\n",
        "    NSUE = SUE*1.12\n",
        "    print(\"el sueldo del empleado aumento a \",NSUE)"
      ],
      "execution_count": null,
      "outputs": []
    },
    {
      "cell_type": "code",
      "metadata": {
        "id": "J-IHgKvCsxvW"
      },
      "source": [
        "# ejericio 2.5\n",
        "Num =int(input(\"Ingresa un numero: \"))\n",
        "if Num > 0:\n",
        "    print(\"El numero es positivo\")\n",
        "elif Num == 0:\n",
        "    print(\"El numero es nulo\")\n",
        "elif Num < 0:\n",
        "    print(\"El numero es negativo\")"
      ],
      "execution_count": null,
      "outputs": []
    },
    {
      "cell_type": "code",
      "metadata": {
        "id": "fkhffLqts6pG"
      },
      "source": [
        "#ejercicio 2.6\n",
        "A = int(input(\"Ingresa un numero: \"))\n",
        "if A == 0:\n",
        "    print(\"Es nulo\")\n",
        "if N % 2 != 0:\n",
        "    print(\"Es par\")\n",
        "elif ( -1 ** A) < 0:\n",
        "    print(\"Es impar\")"
      ],
      "execution_count": null,
      "outputs": []
    },
    {
      "cell_type": "code",
      "metadata": {
        "id": "0anqJ6ndpWoJ"
      },
      "source": [
        "#ejercicio 2.7\n",
        "NUM = int(input(\"Dame un numero entre 1 y 3:\"))\n",
        "V = float(input(\"Dame un valor float:\"))\n",
        "VAL = 0\n",
        "\n",
        "if NUM == 1:\n",
        "    VAL = 100 * V\n",
        "elif NUM == 2:\n",
        "    VAL = 100 ** V\n",
        "elif NUM == 3:\n",
        "    VAL = 100/V\n",
        "else:\n",
        "    VAL = 0\n",
        "print(VAL)"
      ],
      "execution_count": null,
      "outputs": []
    },
    {
      "cell_type": "code",
      "metadata": {
        "id": "1N4QqYNCselv"
      },
      "source": [
        "#ejemplo 2.8\n",
        "CATE=int(input(\"Introduce la categoria:\"))\n",
        "SUE=float(input(\"Introduce tu sueldo:\"))\n",
        "\n",
        "if CATE==1:\n",
        "    SUE==SUE*1.15;\n",
        "elif CATE==2:\n",
        "    SUE==SUE*1.10;\n",
        "elif CATE==3:\n",
        "    SUE=SUE*2.08;\n",
        "elif CATE==4:\n",
        "    SUE=SUE*1.07;\n",
        "\n",
        "print(f\"Categoria= {CATE}, Sueldo= {SUE}\")"
      ],
      "execution_count": null,
      "outputs": []
    },
    {
      "cell_type": "code",
      "metadata": {
        "id": "MF4JOg8usfj_"
      },
      "source": [
        "#ejercicio 2.9\n",
        "preba = float(input(\"Cual es el precio del producto: \"))\n",
        "if preba > 500:\n",
        "    pagar=(preba-40)*.5+20*.3\n",
        "    print(\"Se debe de pagar \",pagar + preba )\n",
        "elif preba > 40:\n",
        "    pagar=(preba-40)*.4+20*.3\n",
        "    print(\"Se debe de pagar \",pagar+preba )\n",
        "elif preba >20:\n",
        "    pagar=(preba-20)*.3\n",
        "    print(\"Se debe de pagar \",pagar+preba)\n",
        "elif preba<20:\n",
        "    print(\"Se debe de pagar\",preba)"
      ],
      "execution_count": null,
      "outputs": []
    },
    {
      "cell_type": "code",
      "metadata": {
        "id": "7gVVXZNit5Pm"
      },
      "source": [
        "#ejercicio 2.10\n",
        "A=int(input(\"Ingresa el primer numero entero: \"))\n",
        "B=int(input(\"Ingresa el segundo numero entero: \"))\n",
        "C=int(input(\"Ingresa el tercer numero entero: \"))\n",
        "\n",
        "if A>B:\n",
        "    if A>C:\n",
        "        print(\"A es el mayor: \", A)\n",
        "elif A>B and A<C and A==C:\n",
        "    print(\"A y C son los mayores\", A, C)\n",
        "elif A>B and A<C and A!=C:\n",
        "    print(\"C es el mayor: \", C)\n",
        "elif A==B and A>C:\n",
        "    print(\"A y B son los mayores\")\n",
        "elif A==B and A==C:\n",
        "    print(\"A, B y C son iguales\")\n",
        "elif A<B and A==B and A<C and A!=C:\n",
        "    print(\"C es el mayor: \", C)\n",
        "elif A<B and A!=B and B>C:\n",
        "    print(\"B es el mayor: \", B)\n",
        "elif A<B and A!=B and B<C and B==C:\n",
        "    print (\"B y C son los mayores: \", B, C)\n",
        "elif A<B and A!=B and B<C and B!=C:\n",
        "    print(\"C es el mayor: \", C)"
      ],
      "execution_count": null,
      "outputs": []
    },
    {
      "cell_type": "code",
      "metadata": {
        "id": "op47G6nFt94n"
      },
      "source": [
        "#ejercicio 2.11\n",
        "c = int(input(\"Cual es tu clave geografica? \\nOpciones \\n12 America del Norte \\n15 America Central\\n18 America del Sur\\n19 Europa\\n23 Asia\\n25 Africa\\n29 Oceania\\nElija una: \"))\n",
        "n = float(input(\"Cuantos minutos tardaste?: \"))\n",
        "if c == 12:\n",
        "    print(f\"El costo de la llamada fue de {2*n} \")\n",
        "elif c == 15:\n",
        "    print(f\"El costo de la llamada fue de {2.2*n} \")\n",
        "elif c == 18:\n",
        "    print(f\"El costo de la llamada fue de {4.5*n} \")\n",
        "elif c == 19:\n",
        "    print(f\"El costo de la llamada fue de {3.5*n} \")\n",
        "elif c == 23:\n",
        "    print(f\"El costo de la llamada fue de {6*n} \")\n",
        "elif c == 25:\n",
        "    print(f\"El costo de la llamada fue de {6*n} \")\n",
        "elif c == 29:\n",
        "    print(f\"El costo de la llamada fue de {5*n} \")"
      ],
      "execution_count": null,
      "outputs": []
    }
  ]
}