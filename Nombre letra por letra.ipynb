{
  "nbformat": 4,
  "nbformat_minor": 0,
  "metadata": {
    "colab": {
      "name": "Untitled0.ipynb",
      "provenance": []
    },
    "kernelspec": {
      "name": "python3",
      "display_name": "Python 3"
    },
    "language_info": {
      "name": "python"
    }
  },
  "cells": [
    {
      "cell_type": "code",
      "metadata": {
        "colab": {
          "base_uri": "https://localhost:8080/"
        },
        "id": "-iMHMFqPu1Bo",
        "outputId": "adf5892f-8a1b-44bb-9cb8-c74e729dcfd4"
      },
      "source": [
        "nombre=\"MAURICIO\"\n",
        "print(nombre[0]+\"   \"+nombre[0]+\"\\n\"+nombre[0]+\" \"+nombre[0]+\" \"+ nombre[0]+\"\\n\"+nombre[0]+\"   \"+nombre[0]+\"\\n\"+ nombre[0]+\"   \"+nombre[0]+\"\\n\"+nombre[0]+\"   \"+nombre[0]+\"\\n\")\n",
        "\n",
        "print(\"  \"+nombre[1]+\"\\n\" +\" \"+nombre[1]+\" \"+nombre [1]+\"\\n\"+nombre[1]+\"   \"+nombre[1]+\"\\n\"+nombre[1]+\" \"+nombre[1]+\" \"+nombre[1]+\"\\n\"+nombre[1]+\"   \"+nombre[1]+\"\\n\")\n",
        "\n",
        "print(nombre[2]+\"   \"+nombre[2]+\"\\n\"+nombre[2]+\"   \"+nombre[2]+\"\\n\"+nombre[2]+\"   \"+nombre[2]+\"\\n\"+nombre[2]+\" \"+nombre[2]+\" \"+nombre[2]+\"\\n\")\n",
        "\n",
        "print(nombre[3]+\" \"+nombre[3]+\" \"+ nombre[3]+\"\\n\"+nombre[3]+\"  \"+nombre[3]+\"\\n\"+nombre[3]+\" \"+nombre[3]+\"\\n\"+nombre[3]+\"  \"+nombre[3]+\"\\n\"+nombre[3]+\"   \"+nombre[3]+\"\\n\")\n",
        "\n",
        "print(nombre[4]+\" \"+nombre[4]+\" \"+nombre[4]+\"\\n\"+\"  \"+nombre[4]+\"\\n\"+\"  \"+nombre[4]+\"\\n\"+\"  \"+nombre[4]+\"\\n\"+nombre[4]+\" \"+nombre[4]+\" \"+nombre[4]+\"\\n\")\n",
        "\n",
        "print(nombre[5]+\" \"+nombre[5]+\" \"+nombre[5]+\"\\n\"+nombre[5]+\"\\n\"+nombre[5]+\"\\n\"+nombre[5]+\"\\n\"+nombre[5]+\" \"+nombre[5]+\" \"+nombre[5]+\"\\n\")\n",
        "\n",
        "print(nombre[6]+\" \"+nombre[6]+\" \"+nombre[6]+\"\\n\"+\"  \"+nombre[6]+\"\\n\"+\"  \"+nombre[6]+\"\\n\"+\"  \"+nombre[6]+\"\\n\"+nombre[6]+\" \"+nombre[6]+\" \"+nombre[6]+\"\\n\")\n",
        "\n",
        "print(nombre[7]+\" \"+nombre[7]+\" \"+nombre[7]+\"\\n\"+nombre[7]+\"   \"+nombre[7]+\"\\n\"+nombre[7]+\"   \"+nombre[7]+\"\\n\"+nombre[7]+\"   \"+nombre[7]+\"\\n\"+nombre[7]+\" \"+nombre[7]+\" \"+nombre[7])"
      ],
      "execution_count": 161,
      "outputs": [
        {
          "output_type": "stream",
          "name": "stdout",
          "text": [
            "M   M\n",
            "M M M\n",
            "M   M\n",
            "M   M\n",
            "M   M\n",
            "\n",
            "  A\n",
            " A A\n",
            "A   A\n",
            "A A A\n",
            "A   A\n",
            "\n",
            "U   U\n",
            "U   U\n",
            "U   U\n",
            "U U U\n",
            "\n",
            "R R R\n",
            "R  R\n",
            "R R\n",
            "R  R\n",
            "R   R\n",
            "\n",
            "I I I\n",
            "  I\n",
            "  I\n",
            "  I\n",
            "I I I\n",
            "\n",
            "C C C\n",
            "C\n",
            "C\n",
            "C\n",
            "C C C\n",
            "\n",
            "I I I\n",
            "  I\n",
            "  I\n",
            "  I\n",
            "I I I\n",
            "\n",
            "O O O\n",
            "O   O\n",
            "O   O\n",
            "O   O\n",
            "O O O\n"
          ]
        }
      ]
    }
  ]
}