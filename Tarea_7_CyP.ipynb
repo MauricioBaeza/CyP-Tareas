{
  "nbformat": 4,
  "nbformat_minor": 0,
  "metadata": {
    "colab": {
      "name": "Tarea 7 CyP.ipynb",
      "provenance": []
    },
    "kernelspec": {
      "name": "python3",
      "display_name": "Python 3"
    },
    "language_info": {
      "name": "python"
    }
  },
  "cells": [
    {
      "cell_type": "code",
      "metadata": {
        "id": "KbnGRrjTA9I4",
        "colab": {
          "base_uri": "https://localhost:8080/"
        },
        "outputId": "d76de671-d202-4183-8f1e-c3c51bcdb348"
      },
      "source": [
        "#Problema 3.1 \n",
        "SUMPARr=0\n",
        "SUMAIMP=0\n",
        "CUENTAPAR=0\n",
        "num=0\n",
        "i=1\n",
        "while i<=270:\n",
        "    num = i #se le da el valor de i a num porque sino num siempre sera 0 porque lo declare asi \n",
        "    if num>0:\n",
        "        if  num%2!=0:\n",
        "            SUMPAR=+CUENTAPAR\n",
        "            CUENTAPAR= CUENTAPAR + 1\n",
        "        else: SUMAIMP=+ num\n",
        "    i=i+1\n",
        "promedioPar = SUMPAR / CUENTAPAR\n",
        "print(f\"Este es el promedio de los pares {promedioPar} y esta es la suma de los impares {SUMAIMP}\")"
      ],
      "execution_count": 2,
      "outputs": [
        {
          "output_type": "stream",
          "name": "stdout",
          "text": [
            "Este es el promedio de los pares 0.9925925925925926 y esta es la suma de los impares 270\n"
          ]
        }
      ]
    },
    {
      "cell_type": "code",
      "metadata": {
        "id": "zkkT6QTC2Pru"
      },
      "source": [
        "# Problema 3.2\n",
        "band='T'\n",
        "i=2\n",
        "SUMSER=0\n",
        "while i<=1800:\n",
        "    SUMSER=+i\n",
        "    print(i)\n",
        "    if band=='T':\n",
        "        band='F'\n",
        "        i=i+3\n",
        "    else:\n",
        "        band='T'\n",
        "        i=i+2\n",
        "print(f\"La suma es {SUMSER}\")"
      ],
      "execution_count": null,
      "outputs": []
    },
    {
      "cell_type": "code",
      "metadata": {
        "id": "KBKBz03IyuJj",
        "colab": {
          "base_uri": "https://localhost:8080/"
        },
        "outputId": "bec0fa70-8786-4e11-adf6-c6086d0f2e03"
      },
      "source": [
        "# Problema 3.3\n",
        "n=int(input(\"Dame un numero entero: \"))\n",
        "band='T'\n",
        "serie = 0\n",
        "i=1\n",
        "while i<=n:\n",
        "    if band=='T':\n",
        "        serie=serie+(1/i)\n",
        "        band='F'\n",
        "    else: \n",
        "        serie=serie-(1/i)\n",
        "        band='T'\n",
        "    i=i+1\n",
        "print(serie)"
      ],
      "execution_count": 6,
      "outputs": [
        {
          "output_type": "stream",
          "name": "stdout",
          "text": [
            "Dame un numero entero: 10\n",
            "0.6456349206349207\n"
          ]
        }
      ]
    },
    {
      "cell_type": "code",
      "metadata": {
        "id": "-vJ55IOd2UNW",
        "colab": {
          "base_uri": "https://localhost:8080/"
        },
        "outputId": "23edd2c3-cb35-4976-e71d-ee8e46705b92"
      },
      "source": [
        "# Problema 3.4\n",
        "nom=0\n",
        "nominas=[855,760.32,1100.2,614,2600,817.5,1280.3,687,-1]\n",
        "i=0\n",
        "while nominas[i] > -1:\n",
        "    if nominas[i] < 1000:\n",
        "        nsue=round(nominas[i]*1.15,2)\n",
        "    else:\n",
        "        nsue=round(nominas[i]*1.12,2)\n",
        "    nom=round(nom+nsue,2)\n",
        "    i=i+1\n",
        "    print(\"El nuevo sueldo del trabajador es\", nsue)\n",
        "print(\"La nomina es \", nom)"
      ],
      "execution_count": 8,
      "outputs": [
        {
          "output_type": "stream",
          "name": "stdout",
          "text": [
            "El nuevo sueldo del trabajador es 983.25\n",
            "El nuevo sueldo del trabajador es 874.37\n",
            "El nuevo sueldo del trabajador es 1232.22\n",
            "El nuevo sueldo del trabajador es 706.1\n",
            "El nuevo sueldo del trabajador es 2912.0\n",
            "El nuevo sueldo del trabajador es 940.12\n",
            "El nuevo sueldo del trabajador es 1433.94\n",
            "El nuevo sueldo del trabajador es 790.05\n",
            "La nomina es  9872.05\n"
          ]
        }
      ]
    }
  ]
}